{
 "cells": [
  {
   "cell_type": "markdown",
   "metadata": {},
   "source": [
    "<!-- Copyright 2017 Google Inc. All rights reserved. -->\n",
    "\n",
    "<!-- Licensed under the Apache License, Version 2.0 (the \"License\"); -->\n",
    "<!-- you may not use this file except in compliance with the License. -->\n",
    "<!-- You may obtain a copy of the License at -->\n",
    "\n",
    "<!--     http://www.apache.org/licenses/LICENSE-2.0 -->\n",
    "\n",
    "<!-- Unless required by applicable law or agreed to in writing, software -->\n",
    "<!-- distributed under the License is distributed on an \"AS IS\" BASIS, -->\n",
    "<!-- WITHOUT WARRANTIES OR CONDITIONS OF ANY KIND, either express or implied. -->\n",
    "<!-- See the License for the specific language governing permissions and -->\n",
    "<!-- limitations under the License. -->\n",
    "\n",
    "# Facets Demo on 1000 Genomes Metadata\n",
    "\n",
    "This notebook demonstrates using [Facets](https://pair-code.github.io/facets/) for nimble visualization of metadata from [1000 Genomes](https://cloud.google.com/genomics/data/1000-genomes). Facets contains two robust visualizations to get a sense of the shape of each feature of your dataset:\n",
    "\n",
    "* Facets Overview\n",
    "* Facets Dive\n",
    "\n",
    "Facets is from the [People+AI Research Initiative](https://ai.google/pair)."
   ]
  },
  {
   "cell_type": "markdown",
   "metadata": {},
   "source": [
    "## Setup"
   ]
  },
  {
   "cell_type": "code",
   "execution_count": null,
   "metadata": {
    "collapsed": false
   },
   "outputs": [],
   "source": [
    "FACETS_INSTALL_DIR = './'"
   ]
  },
  {
   "cell_type": "code",
   "execution_count": null,
   "metadata": {
    "collapsed": false
   },
   "outputs": [],
   "source": [
    "%%bash -s \"$FACETS_INSTALL_DIR\"\n",
    "if [ ! -d \"${1}/facets\" ]; then\n",
    "    # Install facets - only need to do this once per Datalab instance.\n",
    "    cd $1\n",
    "    git clone https://github.com/PAIR-code/facets\n",
    "    cd facets\n",
    "    jupyter nbextension install facets-dist/\n",
    "else\n",
    "    echo Facets is already installed under $1.\n",
    "fi\n"
   ]
  },
  {
   "cell_type": "code",
   "execution_count": null,
   "metadata": {
    "collapsed": false
   },
   "outputs": [],
   "source": [
    "# Add the facets overview python code to the python path and import dependencies.\n",
    "import os\n",
    "import sys\n",
    "sys.path.append(os.path.join(FACETS_INSTALL_DIR, 'facets/facets_overview/python'))\n",
    "reload(sys)\n",
    "sys.setdefaultencoding('utf-8')\n",
    "import pandas as pd\n",
    "import google.datalab.bigquery as bq\n",
    "from generic_feature_statistics_generator import GenericFeatureStatisticsGenerator\n",
    "from IPython.core.display import display, HTML\n",
    "import base64"
   ]
  },
  {
   "cell_type": "markdown",
   "metadata": {},
   "source": [
    "## Retrieve the data"
   ]
  },
  {
   "cell_type": "markdown",
   "metadata": {},
   "source": [
    "Here we define one query for an initial demo using metadata from [1000 Genomes](http://googlegenomics.readthedocs.io/en/latest/use_cases/discover_public_data/1000_genomes.html) but there are more queries at the bottom of this notebook.\n",
    "\n",
    "In general, as long as the query results in tabular-shaped data (e.g., you could export it to CSV) and it is on the order 10s of thousands of rows or less, it should work fine here. If larger than that, please sample the data before visualizing."
   ]
  },
  {
   "cell_type": "code",
   "execution_count": null,
   "metadata": {
    "collapsed": false
   },
   "outputs": [],
   "source": [
    "sql = \"\"\"\n",
    "--\n",
    "-- The 1000 Genomes metadata includes gender, familial relationships, population,\n",
    "-- super population, sequencing metrics, etc.\n",
    "--\n",
    "SELECT\n",
    "  *\n",
    "FROM\n",
    "  `genomics-public-data.1000_genomes.sample_info`\n",
    "\"\"\""
   ]
  },
  {
   "cell_type": "markdown",
   "metadata": {},
   "source": [
    "Execute the query to fill a Pandas dataframe with the data of interest.\n"
   ]
  },
  {
   "cell_type": "code",
   "execution_count": null,
   "metadata": {
    "collapsed": false
   },
   "outputs": [],
   "source": [
    "query = bq.Query(sql)\n",
    "df = query.execute().result().to_dataframe()"
   ]
  },
  {
   "cell_type": "markdown",
   "metadata": {},
   "source": [
    "## Visualize the result with Facets"
   ]
  },
  {
   "cell_type": "markdown",
   "metadata": {},
   "source": [
    "The blocks of code that follow are boilerplate for visualizing the data using Facets Overview and Facets Dive.  They use the value of variable `df` as the input to the visualization.\n",
    "\n",
    "Note: This interactive visualization requires javascript, so if this notebook is viewed from GitHub the output will be empty."
   ]
  },
  {
   "cell_type": "markdown",
   "metadata": {},
   "source": [
    "### Facets Overview\n",
    "\n",
    "The following cell (when executed) will display the dataframe with Facets Overview."
   ]
  },
  {
   "cell_type": "code",
   "execution_count": null,
   "metadata": {
    "collapsed": false
   },
   "outputs": [],
   "source": [
    "proto = GenericFeatureStatisticsGenerator().ProtoFromDataFrames([{'name': 'test', 'table': df}])\n",
    "protostr = base64.b64encode(proto.SerializeToString()).decode(\"utf-8\")\n",
    "HTML_TEMPLATE = \"\"\"<link rel=\"import\" href=\"{facetsPath}\" >\n",
    "        <h4>Facets Overview of dataframe with shape {shape}</h4>\n",
    "        <facets-overview id=\"overviewelem\"></facets-overview>\n",
    "        <script>\n",
    "          document.querySelector(\"#overviewelem\").height = \"1000px\";\n",
    "          document.querySelector(\"#overviewelem\").protoInput = \"{protostr}\";\n",
    "        </script>\"\"\"\n",
    "html = HTML_TEMPLATE.format(facetsPath=os.path.join(FACETS_INSTALL_DIR, 'facets/facets-dist/facets-jupyter.html'),\n",
    "                            shape=str(df.shape),\n",
    "                            protostr=protostr)\n",
    "display(HTML(html))"
   ]
  },
  {
   "cell_type": "markdown",
   "metadata": {},
   "source": [
    "### Facets Dive\n",
    "\n",
    "The following cell (when executed) will display the dataframe with Facets Dive. For 1000 Genomes the default settings reproduce the last plot in [this notebook](https://github.com/googlegenomics/datalab-examples/blob/master/datalab/genomics/Explore%201000%20Genomes%20Samples.ipynb) to compare sequencing center metrcis. Zoom in to see more detail in each plot."
   ]
  },
  {
   "cell_type": "code",
   "execution_count": null,
   "metadata": {
    "collapsed": false
   },
   "outputs": [],
   "source": [
    "jsonstr = df.to_json(orient='records')\n",
    "HTML_TEMPLATE = \"\"\"<link rel=\"import\" href=\"{facetsPath}\" >\n",
    "        <h4>Facets Dive of dataframe with shape {shape}</h4>\n",
    "        <facets-dive id=\"diveelem\"></facets-dive>\n",
    "        <script>\n",
    "          var data = {jsonstr};\n",
    "          document.querySelector(\"#diveelem\").height = \"1000px\";\n",
    "          document.querySelector(\"#diveelem\").data = data;\n",
    "          // Specify a few default settings.\n",
    "          document.querySelector(\"#diveelem\").positionMode = 'scatter';\n",
    "          // Specify a few default settings specific to 1000 Genomes.\n",
    "          document.querySelector(\"#diveelem\").horizontalFacet = 'Super_Population';\n",
    "          document.querySelector(\"#diveelem\").verticalFacet = 'Main_Project_E_Centers';\n",
    "          document.querySelector(\"#diveelem\").horizontalPosition = 'Total_Exome_Sequence';\n",
    "          document.querySelector(\"#diveelem\").verticalPosition = 'Total_LC_Sequence';\n",
    "          document.querySelector(\"#diveelem\").colorBy = 'In_Phase1_Integrated_Variant_Set';\n",
    "        </script>\"\"\"\n",
    "html = HTML_TEMPLATE.format(facetsPath=os.path.join(FACETS_INSTALL_DIR, 'facets/facets-dist/facets-jupyter.html'),\n",
    "                            shape=str(df.shape),\n",
    "                            jsonstr=jsonstr)\n",
    "display(HTML(html))"
   ]
  },
  {
   "cell_type": "markdown",
   "metadata": {},
   "source": [
    "# Additional Queries"
   ]
  },
  {
   "cell_type": "markdown",
   "metadata": {},
   "source": [
    "Here are additional metadata queries for the [Personal Genome Project](http://googlegenomics.readthedocs.io/en/latest/use_cases/discover_public_data/pgp_public_data.html) and the [Simons Genome Diversity Project](http://googlegenomics.readthedocs.io/en/latest/use_cases/discover_public_data/simons_foundation.html).\n",
    "\n",
    "If you execute one of the following cells, it will update the `sql` variable. You can then return to the query and visualization cells above to re-execute them and display the new data."
   ]
  },
  {
   "cell_type": "code",
   "execution_count": null,
   "metadata": {
    "collapsed": true
   },
   "outputs": [],
   "source": [
    "sql = \"\"\"\n",
    "--\n",
    "-- Examine metadata about individuals in the Personal Genomes Project.\n",
    "--\n",
    "SELECT * FROM `google.com:biggene.pgp.phenotypes` \n",
    "\"\"\""
   ]
  },
  {
   "cell_type": "code",
   "execution_count": null,
   "metadata": {
    "collapsed": true
   },
   "outputs": [],
   "source": [
    "sql = \"\"\"\n",
    "--\n",
    "-- Examine metadata about individuals in the Simons Genome Diversity Project.\n",
    "--\n",
    "SELECT * \n",
    "FROM `genomics-public-data.simons_genome_diversity_project.sample_metadata` \n",
    "\"\"\""
   ]
  }
 ],
 "metadata": {
  "kernelspec": {
   "display_name": "Python 2",
   "language": "python",
   "name": "python2"
  },
  "language_info": {
   "codemirror_mode": {
    "name": "ipython",
    "version": 2
   },
   "file_extension": ".py",
   "mimetype": "text/x-python",
   "name": "python",
   "nbconvert_exporter": "python",
   "pygments_lexer": "ipython2",
   "version": "2.7.12"
  }
 },
 "nbformat": 4,
 "nbformat_minor": 2
}
